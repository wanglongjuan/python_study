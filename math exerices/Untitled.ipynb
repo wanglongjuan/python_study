{
 "cells": [
  {
   "cell_type": "code",
   "execution_count": 117,
   "metadata": {},
   "outputs": [
    {
     "data": {
      "text/plain": [
       "array([[[ 0.        ,  0.        ,  0.        ,  1.03823961,  0.5191198 ,\n",
       "          1.04490438,  0.        ,  0.        ,  0.        ,  0.        ,\n",
       "          0.        ],\n",
       "        [ 1.        ,  0.        ,  0.        ,  0.65947919,  0.3297396 ,\n",
       "         -1.99060194,  0.        ,  0.        ,  0.        ,  0.        ,\n",
       "          0.        ],\n",
       "        [ 0.        ,  1.        ,  0.        ,  0.31313656,  0.15656828,\n",
       "         -0.49245781,  0.        ,  0.        ,  0.        ,  0.        ,\n",
       "          0.        ],\n",
       "        [ 0.        ,  0.        ,  0.        ,  1.21791141,  0.6089557 ,\n",
       "         -2.07276258,  0.        ,  0.        ,  0.        ,  0.        ,\n",
       "          0.        ]],\n",
       "\n",
       "       [[ 0.        ,  0.        ,  0.        ,  1.7001104 ,  0.8500552 ,\n",
       "          0.17887313,  0.        ,  0.        ,  0.        ,  0.        ,\n",
       "          0.        ],\n",
       "        [ 1.        ,  0.        ,  0.        ,  1.35274312,  0.67637156,\n",
       "         -2.35888052,  0.        ,  0.        ,  0.        ,  0.        ,\n",
       "          0.        ],\n",
       "        [ 0.        ,  1.        ,  0.        ,  1.29104757,  0.64552379,\n",
       "         -0.50426519,  0.        ,  0.        ,  0.        ,  0.        ,\n",
       "          0.        ],\n",
       "        [ 0.        ,  0.        ,  0.        , -1.64690278, -0.82345139,\n",
       "         -1.21281054,  0.        ,  0.        ,  0.        ,  0.        ,\n",
       "          0.        ]],\n",
       "\n",
       "       [[ 0.        ,  0.        ,  0.        ,  1.99224633,  0.99612316,\n",
       "          0.47582618,  0.        ,  0.        ,  0.        ,  0.        ,\n",
       "          0.        ],\n",
       "        [ 1.        ,  0.        ,  0.        , -0.26473035, -0.13236517,\n",
       "         -2.14663773,  0.        ,  0.        ,  0.        ,  0.        ,\n",
       "          0.        ],\n",
       "        [ 0.        ,  1.        ,  0.        , -0.2991094 , -0.1495547 ,\n",
       "         -1.13203897,  0.        ,  0.        ,  0.        ,  0.        ,\n",
       "          0.        ],\n",
       "        [ 0.        ,  0.        ,  0.        , -1.0213484 , -0.5106742 ,\n",
       "         -1.93813721,  0.        ,  0.        ,  0.        ,  0.        ,\n",
       "          0.        ]]])"
      ]
     },
     "execution_count": 117,
     "metadata": {},
     "output_type": "execute_result"
    }
   ],
   "source": [
    "import numpy as np\n",
    "\n",
    "m = 3\n",
    "NC = 4\n",
    "ldof = 11\n",
    "point = np.random.rand(m, NC, 2)\n",
    "bc = np.random.rand(NC, 2)\n",
    "shape = point.shape[:-1]+(ldof,)\n",
    "phi = np.ones(shape)\n",
    "h = np.ones(NC)*0.5\n",
    "\n",
    "phi[...,1:3] = (point - bc)/h.reshape(-1, 1)\n",
    "\n",
    "p = 2\n",
    "\n",
    "if p>1:\n",
    "    start = 3\n",
    "    for i in range(2, p+1):\n",
    "        phi[...,start:start+i] = phi[...,start-i:start]*phi[...,[1]]\n",
    "        phi[...,start+i] = phi[...,start-1]*phi[...,2]\n",
    "        start += i+1\n",
    "        \n",
    "gphi[..., 1, 0] = 1 \n",
    "gphi[..., 2, 1] = 1\n",
    "if p > 1:\n",
    "    start = 3\n",
    "    r = np.arange(1, p+1)\n",
    "    for i in range(2, p+1):\n",
    "        gphi[..., start:start+i] = np.einsum('i, ...i->...i', r[i-1::-1], phi[..., start-i:start])\n",
    "        gphi[..., start+1:start+i+1] = np.einsum('i, ...i->...i', r[0:i], phi[..., start-i:start])\n",
    "        start += i+1\n",
    "gphi"
   ]
  },
  {
   "cell_type": "code",
   "execution_count": 112,
   "metadata": {},
   "outputs": [
    {
     "data": {
      "text/plain": [
       "(3, 4, 2)"
      ]
     },
     "execution_count": 112,
     "metadata": {},
     "output_type": "execute_result"
    }
   ],
   "source": [
    "phi[...,1:3].shape"
   ]
  },
  {
   "cell_type": "code",
   "execution_count": 113,
   "metadata": {},
   "outputs": [
    {
     "data": {
      "text/plain": [
       "array([2, 1])"
      ]
     },
     "execution_count": 113,
     "metadata": {},
     "output_type": "execute_result"
    }
   ],
   "source": [
    "r[1::-1]"
   ]
  },
  {
   "cell_type": "code",
   "execution_count": 115,
   "metadata": {},
   "outputs": [
    {
     "data": {
      "text/plain": [
       "(3, 4, 2)"
      ]
     },
     "execution_count": 115,
     "metadata": {},
     "output_type": "execute_result"
    }
   ],
   "source": [
    "gphi[...,3:5].shape"
   ]
  },
  {
   "cell_type": "code",
   "execution_count": null,
   "metadata": {
    "collapsed": true
   },
   "outputs": [],
   "source": []
  }
 ],
 "metadata": {
  "kernelspec": {
   "display_name": "Python 3",
   "language": "python",
   "name": "python3"
  },
  "language_info": {
   "codemirror_mode": {
    "name": "ipython",
    "version": 3
   },
   "file_extension": ".py",
   "mimetype": "text/x-python",
   "name": "python",
   "nbconvert_exporter": "python",
   "pygments_lexer": "ipython3",
   "version": "3.5.1+"
  }
 },
 "nbformat": 4,
 "nbformat_minor": 2
}
